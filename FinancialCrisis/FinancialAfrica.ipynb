{
 "cells": [
  {
   "cell_type": "markdown",
   "id": "93368c35",
   "metadata": {},
   "source": [
    "Project: African Financial Crisis\n",
    "\n",
    "Name: Michael Lee\n",
    "\n",
    "Date Started: 10/01/2025"
   ]
  },
  {
   "cell_type": "markdown",
   "id": "7b0dade2",
   "metadata": {},
   "source": [
    "Reason:\n",
    "\n",
    "This is my first machine learning project that's not a tutorial. Since Finances will be my specialty, I want to create vizuals and utilize machine learning to analyze and predict the data given."
   ]
  },
  {
   "cell_type": "markdown",
   "id": "4e0a0de9",
   "metadata": {},
   "source": [
    "Questions:\n",
    "\n",
    "Two questions I want to explore?\n",
    "\n",
    "* What factors are most associated with banking crises across African countries?\n",
    "* Given past crises in each country, can we forecast the likelhood of a crisis withinthe next decade?"
   ]
  },
  {
   "cell_type": "markdown",
   "id": "41bbfb39",
   "metadata": {},
   "source": [
    "## About this file\n",
    "This dataset is a derivative of Reinhart et. al's Global Financial Stability dataset which can be found online at: https://www.hbs.edu/behavioral-finance-and-financial-stability/data/Pages/global.aspx\n",
    "\n",
    "It specifically focuses on the Banking, Debt, Financial, Inflation and Systemic Crises that occurred, from 1860 to 2014, in 13 African countries, including: Algeria, Angola, Central African Republic, Ivory Coast, Egypt, Kenya, Mauritius, Morocco, Nigeria, South Africa, Tunisia, Zambia and Zimbabwe.\n",
    "\n",
    "The dataset will be valuable to those who seek to understand the dynamics of financial stability within the African context."
   ]
  },
  {
   "cell_type": "code",
   "execution_count": null,
   "id": "212d1a67",
   "metadata": {},
   "outputs": [],
   "source": [
    "# Prepare all libraries and imports for the library\n",
    "import numpy as np\n",
    "import pandas as pd\n",
    "import matplotlib.pyplot as plt\n",
    "import plotly.express as px\n",
    "import seaborn as sns\n",
    "import warnings\n",
    "warnings.filters('ignore')\n",
    "pd.set_option('display.max_columns', None)\n",
    "from plotly.offline import init_notebook_mode\n",
    "init_notebook_mode(connected=True)"
   ]
  }
 ],
 "metadata": {
  "language_info": {
   "name": "python"
  }
 },
 "nbformat": 4,
 "nbformat_minor": 5
}

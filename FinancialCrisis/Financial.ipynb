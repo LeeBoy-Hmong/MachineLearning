{
 "cells": [
  {
   "cell_type": "markdown",
   "id": "e6527eeb",
   "metadata": {},
   "source": [
    "Title: Financial Crisis in Africa\n",
    "\n",
    "Date Started: 10/15/2025\n",
    "\n",
    "Objective: \n",
    "\n",
    "* What factors are most associated with the banking crisis in African Countries?\n",
    "* Given past crises in each country, can we forecast the likelihood of a crisis within the next decade? (Predicative Analysis)\n"
   ]
  },
  {
   "cell_type": "markdown",
   "id": "bfb1c084",
   "metadata": {},
   "source": [
    "## About this file\n",
    "This dataset is a derivative of Reinhart et. al's Global Financial Stability dataset which can be found online at: https://www.hbs.edu/behavioral-finance-and-financial-stability/data/Pages/global.aspx\n",
    "\n",
    "It specifically focuses on the Banking, Debt, Financial, Inflation and Systemic Crises that occurred, from 1860 to 2014, in 13 African countries, including: Algeria, Angola, Central African Republic, Ivory Coast, Egypt, Kenya, Mauritius, Morocco, Nigeria, South Africa, Tunisia, Zambia and Zimbabwe.\n",
    "\n",
    "The dataset will be valuable to those who seek to understand the dynamics of financial stability within the African context."
   ]
  },
  {
   "cell_type": "code",
   "execution_count": 2,
   "id": "2d1615d1",
   "metadata": {},
   "outputs": [],
   "source": [
    "# Importing of libraries for exploration:\n",
    "import numpy as np\n",
    "import seaborn as sns\n",
    "import pandas as pd\n",
    "import matplotlib.pyplot as plt\n",
    "import plotly.express as px\n",
    "import warnings\n",
    "warnings.filterwarnings('ignore')\n",
    "%matplotlib inline"
   ]
  },
  {
   "cell_type": "code",
   "execution_count": 5,
   "id": "6aa03a30",
   "metadata": {},
   "outputs": [
    {
     "name": "stdout",
     "output_type": "stream",
     "text": [
      "<class 'pandas.core.frame.DataFrame'>\n",
      "RangeIndex: 1059 entries, 0 to 1058\n",
      "Data columns (total 14 columns):\n",
      " #   Column                           Non-Null Count  Dtype  \n",
      "---  ------                           --------------  -----  \n",
      " 0   case                             1059 non-null   int64  \n",
      " 1   cc3                              1059 non-null   object \n",
      " 2   country                          1059 non-null   object \n",
      " 3   year                             1059 non-null   int64  \n",
      " 4   systemic_crisis                  1059 non-null   int64  \n",
      " 5   exch_usd                         1059 non-null   float64\n",
      " 6   domestic_debt_in_default         1059 non-null   int64  \n",
      " 7   sovereign_external_debt_default  1059 non-null   int64  \n",
      " 8   gdp_weighted_default             1059 non-null   float64\n",
      " 9   inflation_annual_cpi             1059 non-null   float64\n",
      " 10  independence                     1059 non-null   int64  \n",
      " 11  currency_crises                  1059 non-null   int64  \n",
      " 12  inflation_crises                 1059 non-null   int64  \n",
      " 13  banking_crisis                   1059 non-null   object \n",
      "dtypes: float64(3), int64(8), object(3)\n",
      "memory usage: 116.0+ KB\n"
     ]
    }
   ],
   "source": [
    "# Loding in the data\n",
    "raw_df = pd.read_csv('african_crises.csv')\n",
    "raw_df.info()"
   ]
  },
  {
   "cell_type": "code",
   "execution_count": 8,
   "id": "9b30b24c",
   "metadata": {},
   "outputs": [
    {
     "data": {
      "text/plain": [
       "case                                 int64\n",
       "cc3                                 object\n",
       "country                             object\n",
       "year                                 int64\n",
       "systemic_crisis                      int64\n",
       "exch_usd                           float64\n",
       "domestic_debt_in_default             int64\n",
       "sovereign_external_debt_default      int64\n",
       "gdp_weighted_default               float64\n",
       "inflation_annual_cpi               float64\n",
       "independence                         int64\n",
       "currency_crises                      int64\n",
       "inflation_crises                     int64\n",
       "banking_crisis                      object\n",
       "dtype: object"
      ]
     },
     "execution_count": 8,
     "metadata": {},
     "output_type": "execute_result"
    }
   ],
   "source": [
    "raw_df.shape  # Gives the row and columns\n",
    "raw_df.dtypes  # Gives the data type of each feature (column)\n"
   ]
  },
  {
   "cell_type": "markdown",
   "id": "4886efb3",
   "metadata": {},
   "source": [
    "# Data Dictionary:\n",
    "\n",
    "* banking_crisis (Target): {0 = no_crisis, 1 = crisis}\n",
    "* systemic_crisis : {0 = no , 1 = yes}"
   ]
  },
  {
   "cell_type": "markdown",
   "id": "afe31186",
   "metadata": {},
   "source": [
    "## Exploratory Data Analysis\n",
    "\n",
    "Key Notes:\n",
    "\n",
    "* When exploring data that"
   ]
  },
  {
   "cell_type": "code",
   "execution_count": 11,
   "id": "1f3035e2",
   "metadata": {},
   "outputs": [
    {
     "data": {
      "text/plain": [
       "case                               0\n",
       "cc3                                0\n",
       "country                            0\n",
       "year                               0\n",
       "systemic_crisis                    0\n",
       "exch_usd                           0\n",
       "domestic_debt_in_default           0\n",
       "sovereign_external_debt_default    0\n",
       "gdp_weighted_default               0\n",
       "inflation_annual_cpi               0\n",
       "independence                       0\n",
       "currency_crises                    0\n",
       "inflation_crises                   0\n",
       "banking_crisis                     0\n",
       "dtype: int64"
      ]
     },
     "execution_count": 11,
     "metadata": {},
     "output_type": "execute_result"
    }
   ],
   "source": [
    "# Find whether there are missing values within the data.\n",
    "raw_df.isna().sum()  # This will count the amount of data that have NA in each feature. "
   ]
  },
  {
   "cell_type": "code",
   "execution_count": null,
   "id": "d17d15bd",
   "metadata": {},
   "outputs": [
    {
     "name": "stdout",
     "output_type": "stream",
     "text": [
      "     Frequency Count:\n",
      "banking_crisis\n",
      "no_crisis    0.911237\n",
      "crisis       0.088763\n",
      "Name: proportion, dtype: float64\n",
      "    Raw Count:\n",
      "banking_crisis\n",
      "no_crisis    965\n",
      "crisis        94\n",
      "Name: count, dtype: int64\n"
     ]
    }
   ],
   "source": [
    "# Checking Class Imbalance\n",
    "freq_count = raw_df['banking_crisis'].value_counts(normalize=True) # Normalize=True gives frequency\n",
    "raw_count = raw_df['banking_crisis'].value_counts(normalize=False) # Normalize=Fale give count\n",
    "\n",
    "print(f'     Frequency Count:\\n'\n",
    "      f'{freq_count}')\n",
    "print(f'    Raw Count:\\n'\n",
    "      f'{raw_count}')"
   ]
  },
  {
   "cell_type": "code",
   "execution_count": null,
   "id": "a04b612d",
   "metadata": {},
   "outputs": [],
   "source": [
    "# Create a heat map to correlate between all coef\n",
    "floating_df = raw_df[['case',\n",
    "                  'year',\n",
    "                  'systemic_crisis',\n",
    "                  'exch_usd',\n",
    "                  'domestic_debt_in_default',\n",
    "                  'sovereign_external_debt_default',\n",
    "                  'gdp_weighted_default',\n",
    "                  'inflation_annual_cpi',\n",
    "                  'independence',\n",
    "                  'currency_crises',\n",
    "                  'inflation_crises',]]"
   ]
  },
  {
   "cell_type": "code",
   "execution_count": null,
   "id": "51693405",
   "metadata": {},
   "outputs": [
    {
     "data": {
      "text/html": [
       "<div>\n",
       "<style scoped>\n",
       "    .dataframe tbody tr th:only-of-type {\n",
       "        vertical-align: middle;\n",
       "    }\n",
       "\n",
       "    .dataframe tbody tr th {\n",
       "        vertical-align: top;\n",
       "    }\n",
       "\n",
       "    .dataframe thead th {\n",
       "        text-align: right;\n",
       "    }\n",
       "</style>\n",
       "<table border=\"1\" class=\"dataframe\">\n",
       "  <thead>\n",
       "    <tr style=\"text-align: right;\">\n",
       "      <th>systemic_crisis</th>\n",
       "      <th>0</th>\n",
       "      <th>1</th>\n",
       "    </tr>\n",
       "    <tr>\n",
       "      <th>banking_crisis</th>\n",
       "      <th></th>\n",
       "      <th></th>\n",
       "    </tr>\n",
       "  </thead>\n",
       "  <tbody>\n",
       "    <tr>\n",
       "      <th>crisis</th>\n",
       "      <td>0.191489</td>\n",
       "      <td>0.808511</td>\n",
       "    </tr>\n",
       "    <tr>\n",
       "      <th>no_crisis</th>\n",
       "      <td>0.993782</td>\n",
       "      <td>0.006218</td>\n",
       "    </tr>\n",
       "  </tbody>\n",
       "</table>\n",
       "</div>"
      ],
      "text/plain": [
       "systemic_crisis         0         1\n",
       "banking_crisis                     \n",
       "crisis           0.191489  0.808511\n",
       "no_crisis        0.993782  0.006218"
      ]
     },
     "execution_count": 21,
     "metadata": {},
     "output_type": "execute_result"
    }
   ],
   "source": [
    "# Compute a cross tabulation between the effects of \n",
    "pd.crosstab(raw_df['banking_crisis'], raw_df['systemic_crisis'], normalize='index')"
   ]
  }
 ],
 "metadata": {
  "kernelspec": {
   "display_name": "Python 3",
   "language": "python",
   "name": "python3"
  },
  "language_info": {
   "codemirror_mode": {
    "name": "ipython",
    "version": 3
   },
   "file_extension": ".py",
   "mimetype": "text/x-python",
   "name": "python",
   "nbconvert_exporter": "python",
   "pygments_lexer": "ipython3",
   "version": "3.13.2"
  }
 },
 "nbformat": 4,
 "nbformat_minor": 5
}
